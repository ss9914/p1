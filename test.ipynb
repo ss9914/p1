{
 "cells": [
  {
   "cell_type": "code",
   "execution_count": 9,
   "metadata": {},
   "outputs": [],
   "source": [
    "import playsound \n",
    "from gtts import gTTS\n",
    "import os"
   ]
  },
  {
   "cell_type": "code",
   "execution_count": 10,
   "metadata": {},
   "outputs": [],
   "source": [
    "def play_audio(text):\n",
    "    speech = gTTS(text=text, lang='en', slow=False)\n",
    "    speech.save('audio.mp3')\n",
    "    playsound.playsound('audio.mp3')\n",
    "    if os.path.exists('audio.mp3'):\n",
    "        os.remove('audio.mp3')\n",
    "    return True"
   ]
  },
  {
   "cell_type": "code",
   "execution_count": 13,
   "metadata": {},
   "outputs": [
    {
     "data": {
      "text/plain": [
       "True"
      ]
     },
     "execution_count": 13,
     "metadata": {},
     "output_type": "execute_result"
    }
   ],
   "source": [
    "play_audio(\"Pragati\")"
   ]
  },
  {
   "cell_type": "code",
   "execution_count": 1,
   "metadata": {},
   "outputs": [],
   "source": [
    "import speech_recognition as sr"
   ]
  },
  {
   "cell_type": "code",
   "execution_count": 7,
   "metadata": {},
   "outputs": [
    {
     "name": "stdout",
     "output_type": "stream",
     "text": [
      "hello how are you hello hello hello how are you\n"
     ]
    }
   ],
   "source": [
    "recognizer = sr.Recognizer()\n",
    "microphone = sr.Microphone()\n",
    "\n",
    "with microphone as source:\n",
    "    recognizer.adjust_for_ambient_noise(source)\n",
    "    audio = recognizer.listen(source)\n",
    "\n",
    "voice_command = recognizer.recognize_google(audio)\n",
    "print(voice_command)"
   ]
  },
  {
   "cell_type": "code",
   "execution_count": 11,
   "metadata": {},
   "outputs": [],
   "source": [
    "from deep_translator import GoogleTranslator\n"
   ]
  },
  {
   "cell_type": "code",
   "execution_count": 14,
   "metadata": {},
   "outputs": [],
   "source": [
    "translator = GoogleTranslator(source='auto', target='en')"
   ]
  },
  {
   "cell_type": "code",
   "execution_count": 16,
   "metadata": {},
   "outputs": [
    {
     "name": "stdout",
     "output_type": "stream",
     "text": [
      "Input (Tamil): கணக்கில் இருந்து 100 ரூபாய் திரும்பப் பெறுதல் ஒன்று கணக்கில் இருந்து 100 ரூபாய் திரும்பப் பெறுதல் ஒன்று\n",
      "Translated (English): Withdrawal of Rs.100 from Account One Withdrawal of Rs.100 from Account\n"
     ]
    }
   ],
   "source": [
    "with microphone as source:\n",
    "    recognizer.adjust_for_ambient_noise(source)\n",
    "    audio = recognizer.listen(source)   \n",
    "    voice_command_tamil = recognizer.recognize_google(audio, language=\"ta-IN\")\n",
    "    print(\"Input (Tamil):\", voice_command_tamil)\n",
    "\n",
    "    # Translate Tamil input to English\n",
    "    voice_command_english = translator.translate(voice_command_tamil)\n",
    "    print(\"Translated (English):\", voice_command_english)"
   ]
  },
  {
   "cell_type": "code",
   "execution_count": null,
   "metadata": {},
   "outputs": [],
   "source": [
    "from openai import OpenAI\n",
    "\n",
    "def voice_assistant(voice_command):\n",
    "    try:\n",
    "        client = OpenAI(\n",
    "            api_key=os.environ.get(\"OPENAI_API_KEY\"),\n",
    "        )\n",
    "\n",
    "        tasks = ['Withdraw', 'Balance', 'Transfer', 'Change PIN','Deposit','Exit']\n",
    "        command_segments = voice_command.split(' ')\n",
    "        task = ''\n",
    "        amount = '\n",
    "\n",
    "        prompt = f\"\"\"\n",
    "            You're a voice assistant for the ATM. Your task is to identify the intent of the user's voice command and segment the command into the following categories:\n",
    "\n",
    "            1. Task: Withdraw, Balance, Transfer, Change PIN, Deposit, Exit\n",
    "            2. Amount: Any numeric value (e.g., 1000)\n",
    "\n",
    "\n",
    "            Voice Command: \"{voice_command}\"\n",
    "\n",
    "            You should return the segmented categories separated by commas.\n",
    "\n",
    "            For example:\n",
    "            - \"Withdraw 1000\" should return: Withdraw,1000\n",
    "            - \"Transfer 500\" should return: Transfer,500\n",
    "            - \"I want to deposite rupees 100\" should return: Deposite,100\n",
    "            - \"I dont want to withdraw 100\" should return \"\"\n",
    "\n",
    "            If the voice command is not clear or does not match any of the categories or the user intent doest not match any of the categories, return an empty string.\n",
    "        \"\"\"\n",
    "        messages = [{\"role\": \"system\", \"content\": prompt}]\n",
    "        response = client.chat.completions.create(\n",
    "            messages=messages,\n",
    "            model=\"gpt-3.5-turbo-0125\",\n",
    "        )\n",
    "        return response.choices[0].message.content"
   ]
  }
 ],
 "metadata": {
  "kernelspec": {
   "display_name": "Python 3",
   "language": "python",
   "name": "python3"
  },
  "language_info": {
   "codemirror_mode": {
    "name": "ipython",
    "version": 3
   },
   "file_extension": ".py",
   "mimetype": "text/x-python",
   "name": "python",
   "nbconvert_exporter": "python",
   "pygments_lexer": "ipython3",
   "version": "3.11.8"
  }
 },
 "nbformat": 4,
 "nbformat_minor": 2
}
